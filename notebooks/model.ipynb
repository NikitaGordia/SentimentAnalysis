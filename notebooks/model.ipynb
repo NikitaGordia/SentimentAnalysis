{
 "cells": [
  {
   "cell_type": "code",
   "execution_count": 1,
   "metadata": {
    "collapsed": true
   },
   "outputs": [],
   "source": [
    "import pandas as pd\n",
    "import numpy as np\n",
    "\n",
    "ds = pd.read_csv('../data/train.csv')"
   ]
  },
  {
   "cell_type": "code",
   "execution_count": 7,
   "outputs": [],
   "source": [
    "from sklearn.model_selection import train_test_split\n",
    "from sklearn.metrics import f1_score\n",
    "\n",
    "X = np.load('../data/dev/feed_tfidf_lite.npy')\n",
    "X_train, X_val, y_train, y_val = train_test_split(X, ds.sentiment, test_size=0.2, random_state=1423)"
   ],
   "metadata": {
    "collapsed": false,
    "pycharm": {
     "name": "#%%\n"
    }
   }
  },
  {
   "cell_type": "code",
   "execution_count": 22,
   "outputs": [],
   "source": [
    "import time\n",
    "\n",
    "def eval(model, n):\n",
    "    start = time.time()\n",
    "    model.fit(X_train[:n], y_train[:n])\n",
    "    stop = time.time()\n",
    "    print('Training time: ', stop - start)\n",
    "    start = time.time()\n",
    "    predict = model.predict(X_val)\n",
    "    stop = time.time()\n",
    "    print('Prediction time: ', stop - start)\n",
    "    print(f1_score(y_val, predict))"
   ],
   "metadata": {
    "collapsed": false,
    "pycharm": {
     "name": "#%%\n"
    }
   }
  },
  {
   "cell_type": "code",
   "execution_count": 32,
   "outputs": [
    {
     "name": "stdout",
     "output_type": "stream",
     "text": [
      "[LibLinear]Training time:  18.11378288269043\n",
      "Prediction time:  2.212772846221924\n",
      "0.8916781724614032\n"
     ]
    }
   ],
   "source": [
    "from sklearn.svm import LinearSVC\n",
    "from sklearn.ensemble import BaggingClassifier\n",
    "\n",
    "eval(LinearSVC(max_iter=80, verbose=True), 39000)"
   ],
   "metadata": {
    "collapsed": false,
    "pycharm": {
     "name": "#%%\n"
    }
   }
  },
  {
   "cell_type": "code",
   "execution_count": 33,
   "outputs": [
    {
     "name": "stdout",
     "output_type": "stream",
     "text": [
      "[LibLinear]Training time:  9.989098072052002\n",
      "Prediction time:  2.0938427448272705\n",
      "0.8916781724614032\n"
     ]
    }
   ],
   "source": [
    "eval(LinearSVC(max_iter=50, verbose=True), 39000)"
   ],
   "metadata": {
    "collapsed": false,
    "pycharm": {
     "name": "#%%\n"
    }
   }
  },
  {
   "cell_type": "code",
   "execution_count": 34,
   "outputs": [
    {
     "name": "stdout",
     "output_type": "stream",
     "text": [
      "[LibLinear]Training time:  9.512577056884766\n",
      "Prediction time:  1.965334177017212\n",
      "0.8916781724614032\n"
     ]
    },
    {
     "name": "stderr",
     "output_type": "stream",
     "text": [
      "/Users/nikita_gordia/opt/anaconda3/envs/SentimentAnalysis/lib/python3.8/site-packages/sklearn/svm/_base.py:985: ConvergenceWarning: Liblinear failed to converge, increase the number of iterations.\n",
      "  warnings.warn(\"Liblinear failed to converge, increase \"\n"
     ]
    }
   ],
   "source": [
    "eval(LinearSVC(max_iter=40, verbose=True), 39000)"
   ],
   "metadata": {
    "collapsed": false,
    "pycharm": {
     "name": "#%%\n"
    }
   }
  },
  {
   "cell_type": "code",
   "execution_count": 31,
   "outputs": [
    {
     "name": "stdout",
     "output_type": "stream",
     "text": [
      "[LibLinear]Training time:  13.468436002731323\n",
      "Prediction time:  2.321927309036255\n",
      "0.8916781724614032\n"
     ]
    }
   ],
   "source": [
    "eval(LinearSVC(max_iter=100, verbose=True), 39000)"
   ],
   "metadata": {
    "collapsed": false,
    "pycharm": {
     "name": "#%%\n"
    }
   }
  },
  {
   "cell_type": "code",
   "execution_count": 27,
   "outputs": [
    {
     "name": "stdout",
     "output_type": "stream",
     "text": [
      "[LibLinear]Training time:  29.3639178276062\n",
      "Prediction time:  2.1477348804473877\n",
      "0.8916781724614032\n"
     ]
    }
   ],
   "source": [
    "eval(LinearSVC(max_iter=1000, verbose=True), 39000)"
   ],
   "metadata": {
    "collapsed": false,
    "pycharm": {
     "name": "#%%\n"
    }
   }
  },
  {
   "cell_type": "code",
   "execution_count": 53,
   "outputs": [
    {
     "name": "stdout",
     "output_type": "stream",
     "text": [
      "Fitting 5 folds for each of 3 candidates, totalling 15 fits\n"
     ]
    },
    {
     "data": {
      "text/plain": "{'C': 0.3, 'loss': 'squared_hinge', 'max_iter': 50, 'penalty': 'l2', 'tol': 1}"
     },
     "execution_count": 53,
     "metadata": {},
     "output_type": "execute_result"
    }
   ],
   "source": [
    "from sklearn.model_selection import GridSearchCV\n",
    "\n",
    "search = GridSearchCV(LinearSVC(), {\n",
    "    'penalty' : ['l2'],\n",
    "    'loss' : ['squared_hinge'],\n",
    "    'tol' : [5, 1, 0.5],\n",
    "    'C': [0.3],\n",
    "    'max_iter': [50]\n",
    "}, verbose=10, n_jobs=-1, scoring='f1')\n",
    "search.fit(X_val[:3000], y_val[:3000])\n",
    "search.best_params_"
   ],
   "metadata": {
    "collapsed": false,
    "pycharm": {
     "name": "#%%\n"
    }
   }
  },
  {
   "cell_type": "code",
   "execution_count": null,
   "outputs": [],
   "source": [],
   "metadata": {
    "collapsed": false,
    "pycharm": {
     "name": "#%%\n"
    }
   }
  }
 ],
 "metadata": {
  "kernelspec": {
   "display_name": "Python 3",
   "language": "python",
   "name": "python3"
  },
  "language_info": {
   "codemirror_mode": {
    "name": "ipython",
    "version": 2
   },
   "file_extension": ".py",
   "mimetype": "text/x-python",
   "name": "python",
   "nbconvert_exporter": "python",
   "pygments_lexer": "ipython2",
   "version": "2.7.6"
  }
 },
 "nbformat": 4,
 "nbformat_minor": 0
}