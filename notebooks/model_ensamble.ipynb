{
 "cells": [
  {
   "cell_type": "code",
   "execution_count": 2,
   "metadata": {
    "collapsed": true
   },
   "outputs": [],
   "source": [
    "import pandas as pd\n",
    "import numpy as np\n",
    "\n",
    "ds = pd.read_csv('../data/train.csv')"
   ]
  },
  {
   "cell_type": "code",
   "execution_count": 15,
   "outputs": [],
   "source": [
    "from sklearn.model_selection import train_test_split\n",
    "from sklearn.metrics import f1_score\n",
    "import time\n",
    "\n",
    "X, X_count = np.load('../data/dev/feed_tfidf_lite.npz'), np.load('../data/dev/feed_count.npz')\n",
    "X_train, X_val, y_train, y_val = train_test_split(X, ds.sentiment, test_size=0.1, random_state=1423)"
   ],
   "metadata": {
    "collapsed": false,
    "pycharm": {
     "name": "#%%\n"
    }
   }
  },
  {
   "cell_type": "code",
   "execution_count": 38,
   "outputs": [],
   "source": [
    "def eval(model, n):\n",
    "    start = time.time()\n",
    "    model.fit(X_train[:n], y_train[:n])\n",
    "    stop = time.time()\n",
    "    print('Training time: ', stop - start)\n",
    "    start = time.time()\n",
    "    predict = model.predict(X_val)\n",
    "    stop = time.time()\n",
    "    print('Prediction time: ', stop - start)\n",
    "    print(f1_score(y_val, predict))"
   ],
   "metadata": {
    "collapsed": false,
    "pycharm": {
     "name": "#%%\n"
    }
   }
  },
  {
   "cell_type": "code",
   "execution_count": 42,
   "outputs": [
    {
     "name": "stdout",
     "output_type": "stream",
     "text": [
      "[LibLinear]Training time:  9.191359996795654\n",
      "Prediction time:  0.11549592018127441\n",
      "0.8931451612903225\n"
     ]
    }
   ],
   "source": [
    "from sklearn.svm import LinearSVC\n",
    "\n",
    "eval(LinearSVC(max_iter=50,\n",
    "                                 verbose=True,\n",
    "                                 tol=1,\n",
    "                                 C=0.3), 39000)"
   ],
   "metadata": {
    "collapsed": false,
    "pycharm": {
     "name": "#%%\n"
    }
   }
  },
  {
   "cell_type": "code",
   "execution_count": 33,
   "outputs": [
    {
     "name": "stdout",
     "output_type": "stream",
     "text": [
      "Training time:  244.25063395500183\n",
      "Prediction time:  1.0787761211395264\n",
      "0.892892892892893\n"
     ]
    }
   ],
   "source": [],
   "metadata": {
    "collapsed": false,
    "pycharm": {
     "name": "#%%\n"
    }
   }
  }
 ],
 "metadata": {
  "kernelspec": {
   "display_name": "Python 3",
   "language": "python",
   "name": "python3"
  },
  "language_info": {
   "codemirror_mode": {
    "name": "ipython",
    "version": 2
   },
   "file_extension": ".py",
   "mimetype": "text/x-python",
   "name": "python",
   "nbconvert_exporter": "python",
   "pygments_lexer": "ipython2",
   "version": "2.7.6"
  }
 },
 "nbformat": 4,
 "nbformat_minor": 0
}